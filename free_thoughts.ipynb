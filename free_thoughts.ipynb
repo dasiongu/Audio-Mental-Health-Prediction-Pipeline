{
 "cells": [
  {
   "cell_type": "code",
   "execution_count": 17,
   "metadata": {},
   "outputs": [],
   "source": [
    "import pandas as pd\n",
    "import json\n",
    "import numpy as np"
   ]
  },
  {
   "cell_type": "code",
   "execution_count": 18,
   "metadata": {},
   "outputs": [],
   "source": [
    "with open('./output/ensemble_predictions.json', 'r') as json_file:\n",
    "    json_data = json.load(json_file)"
   ]
  },
  {
   "cell_type": "code",
   "execution_count": 19,
   "metadata": {},
   "outputs": [],
   "source": [
    "df = pd.DataFrame(json_data['PHQ_Binary']).T"
   ]
  },
  {
   "cell_type": "code",
   "execution_count": 20,
   "metadata": {},
   "outputs": [
    {
     "data": {
      "text/html": [
       "<div>\n",
       "<style scoped>\n",
       "    .dataframe tbody tr th:only-of-type {\n",
       "        vertical-align: middle;\n",
       "    }\n",
       "\n",
       "    .dataframe tbody tr th {\n",
       "        vertical-align: top;\n",
       "    }\n",
       "\n",
       "    .dataframe thead th {\n",
       "        text-align: right;\n",
       "    }\n",
       "</style>\n",
       "<table border=\"1\" class=\"dataframe\">\n",
       "  <thead>\n",
       "    <tr style=\"text-align: right;\">\n",
       "      <th></th>\n",
       "      <th>D1</th>\n",
       "      <th>D2</th>\n",
       "      <th>M1</th>\n",
       "      <th>S1</th>\n",
       "    </tr>\n",
       "  </thead>\n",
       "  <tbody>\n",
       "    <tr>\n",
       "      <th>audio</th>\n",
       "      <td>0.000000</td>\n",
       "      <td>0.456044</td>\n",
       "      <td>0.000000</td>\n",
       "      <td>0.456044</td>\n",
       "    </tr>\n",
       "    <tr>\n",
       "      <th>nlp</th>\n",
       "      <td>0.675676</td>\n",
       "      <td>0.000000</td>\n",
       "      <td>0.675676</td>\n",
       "      <td>0.675676</td>\n",
       "    </tr>\n",
       "    <tr>\n",
       "      <th>graph</th>\n",
       "      <td>0.000000</td>\n",
       "      <td>0.000000</td>\n",
       "      <td>0.000000</td>\n",
       "      <td>0.000000</td>\n",
       "    </tr>\n",
       "    <tr>\n",
       "      <th>audio-nlp</th>\n",
       "      <td>0.300380</td>\n",
       "      <td>0.045627</td>\n",
       "      <td>0.091255</td>\n",
       "      <td>0.091255</td>\n",
       "    </tr>\n",
       "    <tr>\n",
       "      <th>audio-graph</th>\n",
       "      <td>0.119565</td>\n",
       "      <td>0.380435</td>\n",
       "      <td>0.000000</td>\n",
       "      <td>0.380435</td>\n",
       "    </tr>\n",
       "    <tr>\n",
       "      <th>graph-nlp</th>\n",
       "      <td>0.000000</td>\n",
       "      <td>0.000000</td>\n",
       "      <td>0.127072</td>\n",
       "      <td>0.000000</td>\n",
       "    </tr>\n",
       "    <tr>\n",
       "      <th>audio-graph-nlp</th>\n",
       "      <td>0.261290</td>\n",
       "      <td>0.261290</td>\n",
       "      <td>0.261290</td>\n",
       "      <td>0.261290</td>\n",
       "    </tr>\n",
       "  </tbody>\n",
       "</table>\n",
       "</div>"
      ],
      "text/plain": [
       "                       D1        D2        M1        S1\n",
       "audio            0.000000  0.456044  0.000000  0.456044\n",
       "nlp              0.675676  0.000000  0.675676  0.675676\n",
       "graph            0.000000  0.000000  0.000000  0.000000\n",
       "audio-nlp        0.300380  0.045627  0.091255  0.091255\n",
       "audio-graph      0.119565  0.380435  0.000000  0.380435\n",
       "graph-nlp        0.000000  0.000000  0.127072  0.000000\n",
       "audio-graph-nlp  0.261290  0.261290  0.261290  0.261290"
      ]
     },
     "execution_count": 20,
     "metadata": {},
     "output_type": "execute_result"
    }
   ],
   "source": [
    "df"
   ]
  },
  {
   "cell_type": "code",
   "execution_count": null,
   "metadata": {},
   "outputs": [],
   "source": []
  }
 ],
 "metadata": {
  "kernelspec": {
   "display_name": "Python 3",
   "language": "python",
   "name": "python3"
  },
  "language_info": {
   "codemirror_mode": {
    "name": "ipython",
    "version": 3
   },
   "file_extension": ".py",
   "mimetype": "text/x-python",
   "name": "python",
   "nbconvert_exporter": "python",
   "pygments_lexer": "ipython3",
   "version": "3.11.3"
  }
 },
 "nbformat": 4,
 "nbformat_minor": 2
}
